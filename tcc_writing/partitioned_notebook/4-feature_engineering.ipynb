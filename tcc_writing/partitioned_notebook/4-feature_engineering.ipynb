{
 "cells": [
  {
   "cell_type": "markdown",
   "id": "48ec7081",
   "metadata": {},
   "source": [
    "# 6. Feature Engineering\n",
    "**Purpose**: Create enhanced features using EDA insights while preventing data leakage"
   ]
  },
  {
   "cell_type": "code",
   "execution_count": null,
   "id": "e80f43e8",
   "metadata": {
    "vscode": {
     "languageId": "plaintext"
    }
   },
   "outputs": [],
   "source": [
    "# Feature Engineering - Create Enhanced Features\n",
    "print(\"🔧 Feature Engineering\")\n",
    "print(\"=\"*50)\n",
    "\n",
    "# Apply feature engineering using our defined function\n",
    "df_features = engineer_features(df_clean, target_column)\n",
    "\n",
    "print(f\"\\n📊 Feature Engineering Results:\")\n",
    "print(f\"  • Original features: {df_clean.shape[1]}\")\n",
    "print(f\"  • Enhanced features: {df_features.shape[1]}\")\n",
    "print(f\"  • New features created: {df_features.shape[1] - df_clean.shape[1]}\")\n",
    "print(f\"  • Data shape: {df_features.shape}\")\n",
    "\n",
    "# Verify no data leakage\n",
    "feature_columns = [col for col in df_features.columns if col != target_column]\n",
    "vibration_features = [col for col in feature_columns if 'VIBRATION' in col.upper()]\n",
    "\n",
    "print(f\"\\n🛡️ Data Leakage Check:\")\n",
    "if vibration_features:\n",
    "    print(f\"  ❌ WARNING: Found {len(vibration_features)} vibration features in predictors!\")\n",
    "    for vf in vibration_features:\n",
    "        print(f\"    - {vf}\")\n",
    "else:\n",
    "    print(f\"  ✅ PASSED: No vibration features in predictor set\")\n",
    "    print(f\"  • Total predictive features: {len(feature_columns)}\")\n",
    "    print(f\"  • Target variable: {target_column}\")\n",
    "\n",
    "# Show sample of new engineered features\n",
    "print(f\"\\n🔍 Sample of Engineered Features:\")\n",
    "engineered_cols = [col for col in df_features.columns if '_rolling_' in col or col in ['hour', 'day_of_week', 'month']][:10]\n",
    "for i, col in enumerate(engineered_cols, 1):\n",
    "    print(f\"  {i:2d}. {col}\")\n",
    "\n",
    "print(f\"\\n✅ Feature engineering complete - {df_features.shape[1]} features ready for importance analysis\")"
   ]
  },
  {
   "cell_type": "code",
   "execution_count": null,
   "id": "628fb3e0",
   "metadata": {
    "vscode": {
     "languageId": "plaintext"
    }
   },
   "outputs": [],
   "source": [
    "# Feature Engineering Quality Assessment\n",
    "print(\"\\n📈 Feature Engineering Quality Assessment\")\n",
    "print(\"=\"*50)\n",
    "\n",
    "# Analyze feature types\n",
    "feature_types = {\n",
    "    'Original': [col for col in df_features.columns if '_rolling_' not in col and col not in ['hour', 'day_of_week', 'month', target_column]],\n",
    "    'Rolling_Mean': [col for col in df_features.columns if '_rolling_mean_' in col],\n",
    "    'Rolling_Std': [col for col in df_features.columns if '_rolling_std_' in col],\n",
    "    'Temporal': [col for col in df_features.columns if col in ['hour', 'day_of_week', 'month']]\n",
    "}\n",
    "\n",
    "print(\"📊 Feature Type Breakdown:\")\n",
    "total_features = 0\n",
    "for feat_type, feat_list in feature_types.items():\n",
    "    print(f\"  • {feat_type:<12}: {len(feat_list):3d} features\")\n",
    "    total_features += len(feat_list)\n",
    "\n",
    "print(f\"  • {'Target':<12}: {1:3d} feature\")\n",
    "print(f\"  • {'Total':<12}: {total_features + 1:3d} features\")\n",
    "\n",
    "# Check feature completeness after engineering\n",
    "missing_after_engineering = df_features.isnull().sum()\n",
    "features_with_missing = missing_after_engineering[missing_after_engineering > 0]\n",
    "\n",
    "print(f\"\\n🔍 Data Quality After Engineering:\")\n",
    "print(f\"  • Features with missing data: {len(features_with_missing)}/{len(df_features.columns)}\")\n",
    "print(f\"  • Average missing percentage: {(missing_after_engineering.sum() / (len(df_features) * len(df_features.columns))) * 100:.2f}%\")\n",
    "\n",
    "if len(features_with_missing) > 0:\n",
    "    print(f\"  • Worst missing features:\")\n",
    "    worst_missing = (features_with_missing / len(df_features) * 100).nlargest(5)\n",
    "    for feat, pct in worst_missing.items():\n",
    "        print(f\"    - {feat[:40]:<40}: {pct:.1f}%\")\n",
    "\n",
    "# Quick correlation check of engineered features with target\n",
    "print(f\"\\n🎯 Engineered Features Correlation Check:\")\n",
    "rolling_features = feature_types['Rolling_Mean'] + feature_types['Rolling_Std'][:5]  # Sample\n",
    "if rolling_features:\n",
    "    eng_correlations = df_features[rolling_features + [target_column]].corr()[target_column].abs().sort_values(ascending=False)[1:]  # Exclude target itself\n",
    "    \n",
    "    print(\"  Top 5 Engineered Features by Correlation:\")\n",
    "    for i, (feat, corr) in enumerate(eng_correlations.head(5).items(), 1):\n",
    "        print(f\"    {i}. {feat[:45]:<45} | r = {corr:.3f}\")\n",
    "    \n",
    "    avg_eng_corr = eng_correlations.mean()\n",
    "    print(f\"  • Average engineered feature correlation: {avg_eng_corr:.3f}\")\n",
    "    \n",
    "    # Compare with original feature average correlation\n",
    "    orig_correlations = df_features[feature_types['Original'] + [target_column]].corr()[target_column].abs()\n",
    "    avg_orig_corr = orig_correlations[orig_correlations.index != target_column].mean()\n",
    "    print(f\"  • Average original feature correlation: {avg_orig_corr:.3f}\")\n",
    "    \n",
    "    improvement = ((avg_eng_corr - avg_orig_corr) / avg_orig_corr) * 100 if avg_orig_corr > 0 else 0\n",
    "    print(f\"  • Correlation improvement: {improvement:+.1f}%\")\n",
    "\n",
    "print(f\"\\n✅ Feature engineering quality assessment complete\")\n",
    "print(f\"  • Dataset ready for feature importance analysis\")\n",
    "print(f\"  • Zero data leakage confirmed\")\n",
    "print(f\"  • {len(feature_columns)} predictive features available\")"
   ]
  }
 ],
 "metadata": {
  "language_info": {
   "name": "python"
  }
 },
 "nbformat": 4,
 "nbformat_minor": 5
}
